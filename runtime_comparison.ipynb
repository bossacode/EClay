{
 "cells": [
  {
   "cell_type": "code",
   "execution_count": 1,
   "metadata": {},
   "outputs": [],
   "source": [
    "%load_ext autoreload\n",
    "%autoreload 2"
   ]
  },
  {
   "cell_type": "code",
   "execution_count": 3,
   "metadata": {},
   "outputs": [],
   "source": [
    "from timeit import timeit\n",
    "import gudhi as gd\n",
    "from torchvision.datasets import MNIST, KMNIST\n",
    "from torchvision.transforms import ToTensor\n",
    "from torch.utils.data import DataLoader\n",
    "from eclayr.cubical import CubicalEcc, ECLayr\n",
    "\n",
    "batch_size = 32\n",
    "num_iter = 10"
   ]
  },
  {
   "cell_type": "markdown",
   "metadata": {},
   "source": [
    "# MNIST"
   ]
  },
  {
   "cell_type": "code",
   "execution_count": 3,
   "metadata": {},
   "outputs": [],
   "source": [
    "train_data = MNIST(root=\"./MNIST/dataset/raw/\", train=True, download=True, transform=ToTensor())  # shape: (60000, 28, 28)\n",
    "X = (train_data.data / 255).unsqueeze(1)\n",
    "dataloader = DataLoader(X, batch_size=batch_size, shuffle=True)"
   ]
  },
  {
   "cell_type": "markdown",
   "metadata": {},
   "source": [
    "## ECC"
   ]
  },
  {
   "cell_type": "markdown",
   "metadata": {},
   "source": [
    "### T-construction"
   ]
  },
  {
   "cell_type": "code",
   "execution_count": 12,
   "metadata": {},
   "outputs": [
    {
     "name": "stdout",
     "output_type": "stream",
     "text": [
      "Runtime for each iteration: 12.716819541000177\n"
     ]
    }
   ],
   "source": [
    "cubecc = CubicalEcc(t_const=True, sublevel=False, interval=[0, 1])\n",
    "\n",
    "def train():\n",
    "    for batch in dataloader:\n",
    "        ecc = cubecc(batch)\n",
    "\n",
    "runtime = timeit(train, number=num_iter)\n",
    "print(\"Runtime for each iteration:\", runtime / num_iter)"
   ]
  },
  {
   "cell_type": "markdown",
   "metadata": {},
   "source": [
    "### V-construction"
   ]
  },
  {
   "cell_type": "code",
   "execution_count": 27,
   "metadata": {},
   "outputs": [
    {
     "name": "stdout",
     "output_type": "stream",
     "text": [
      "Runtime for each iteration: 2.8620287499943515\n"
     ]
    }
   ],
   "source": [
    "cubecc = CubicalEcc(t_const=False, sublevel=False, interval=[0, 1])\n",
    "\n",
    "def train():\n",
    "    for batch in dataloader:\n",
    "        ecc = cubecc(batch)\n",
    "\n",
    "runtime = timeit(train, number=num_iter)\n",
    "print(\"Runtime for each iteration:\", runtime / num_iter)"
   ]
  },
  {
   "cell_type": "markdown",
   "metadata": {},
   "source": [
    "## ECC with gradient"
   ]
  },
  {
   "cell_type": "code",
   "execution_count": 28,
   "metadata": {},
   "outputs": [],
   "source": [
    "X.requires_grad_(True)\n",
    "dataloader = DataLoader(X, batch_size=batch_size, shuffle=True)"
   ]
  },
  {
   "cell_type": "markdown",
   "metadata": {},
   "source": [
    "### T-construction"
   ]
  },
  {
   "cell_type": "code",
   "execution_count": 30,
   "metadata": {},
   "outputs": [
    {
     "name": "stdout",
     "output_type": "stream",
     "text": [
      "Runtime for each iteration: 16.93060333399626\n"
     ]
    }
   ],
   "source": [
    "cubecc = CubicalEcc(t_const=True, sublevel=False, interval=[0, 1])\n",
    "\n",
    "def train():\n",
    "    for batch in dataloader:\n",
    "        ecc = cubecc(batch)\n",
    "\n",
    "runtime = timeit(train, number=num_iter)\n",
    "print(\"Runtime for each iteration:\", runtime / num_iter)"
   ]
  },
  {
   "cell_type": "markdown",
   "metadata": {},
   "source": [
    "### V-construction"
   ]
  },
  {
   "cell_type": "code",
   "execution_count": 31,
   "metadata": {},
   "outputs": [
    {
     "name": "stdout",
     "output_type": "stream",
     "text": [
      "Runtime for each iteration: 9.896869666001294\n"
     ]
    }
   ],
   "source": [
    "cubecc = CubicalEcc(t_const=False, sublevel=False, interval=[0, 1])\n",
    "\n",
    "def train():\n",
    "    for batch in dataloader:\n",
    "        ecc = cubecc(batch)\n",
    "\n",
    "runtime = timeit(train, number=num_iter)\n",
    "print(\"Runtime for each iteration:\", runtime / num_iter)"
   ]
  },
  {
   "cell_type": "markdown",
   "metadata": {},
   "source": [
    "## PH"
   ]
  },
  {
   "cell_type": "code",
   "execution_count": 4,
   "metadata": {},
   "outputs": [],
   "source": [
    "X.requires_grad_(False)\n",
    "dataloader = DataLoader(X, batch_size=batch_size, shuffle=True)"
   ]
  },
  {
   "cell_type": "markdown",
   "metadata": {},
   "source": [
    "### T-construction"
   ]
  },
  {
   "cell_type": "code",
   "execution_count": 8,
   "metadata": {},
   "outputs": [
    {
     "name": "stdout",
     "output_type": "stream",
     "text": [
      "Runtime for each iteration: 12.497989959000051\n"
     ]
    }
   ],
   "source": [
    "def train():\n",
    "    for batch in dataloader:\n",
    "        for data in batch:\n",
    "            data = -data    # bc. superlevel set is used\n",
    "            for channel in data:\n",
    "                cpx = gd.CubicalComplex(top_dimensional_cells=channel)\n",
    "                # ph = cpx.persistence()\n",
    "\n",
    "runtime = timeit(train, number=num_iter)\n",
    "print(\"Runtime for each iteration:\", runtime / num_iter)"
   ]
  },
  {
   "cell_type": "markdown",
   "metadata": {},
   "source": [
    "### V-construction"
   ]
  },
  {
   "cell_type": "code",
   "execution_count": 7,
   "metadata": {},
   "outputs": [
    {
     "name": "stdout",
     "output_type": "stream",
     "text": [
      "Runtime for each iteration: 31.643859957999894\n"
     ]
    }
   ],
   "source": [
    "def train():\n",
    "    for batch in dataloader:\n",
    "        for data in batch:\n",
    "            data = -data    # bc. superlevel set is used\n",
    "            for channel in data:\n",
    "                cpx = gd.CubicalComplex(vertices=channel)\n",
    "                ph = cpx.persistence()\n",
    "\n",
    "runtime = timeit(train, number=num_iter)\n",
    "print(\"Runtime for each iteration:\", runtime / num_iter)"
   ]
  },
  {
   "cell_type": "markdown",
   "metadata": {},
   "source": [
    "# KMNIST"
   ]
  },
  {
   "cell_type": "code",
   "execution_count": 4,
   "metadata": {},
   "outputs": [],
   "source": [
    "train_data = KMNIST(root=\"./KMNIST/dataset/raw/\", train=True, download=True, transform=ToTensor())  # shape: (60000, 28, 28)\n",
    "X = (train_data.data / 255).unsqueeze(1)\n",
    "dataloader = DataLoader(X, batch_size=batch_size, shuffle=True)"
   ]
  },
  {
   "cell_type": "markdown",
   "metadata": {},
   "source": [
    "## ECC"
   ]
  },
  {
   "cell_type": "markdown",
   "metadata": {},
   "source": [
    "### T-construction"
   ]
  },
  {
   "cell_type": "code",
   "execution_count": null,
   "metadata": {},
   "outputs": [
    {
     "name": "stdout",
     "output_type": "stream",
     "text": [
      "Runtime for each iteration: 12.716819541000177\n"
     ]
    }
   ],
   "source": [
    "cubecc = CubicalEcc(t_const=True, sublevel=False, interval=[0, 1])\n",
    "\n",
    "def train():\n",
    "    for batch in dataloader:\n",
    "        ecc = cubecc(batch)\n",
    "\n",
    "runtime = timeit(train, number=num_iter)\n",
    "print(\"Runtime for each iteration:\", runtime / num_iter)"
   ]
  },
  {
   "cell_type": "markdown",
   "metadata": {},
   "source": [
    "### V-construction"
   ]
  },
  {
   "cell_type": "code",
   "execution_count": 5,
   "metadata": {},
   "outputs": [
    {
     "name": "stdout",
     "output_type": "stream",
     "text": [
      "Runtime for each iteration: 2.8850671000000148\n"
     ]
    }
   ],
   "source": [
    "cubecc = CubicalEcc(t_const=False, sublevel=False, interval=[0, 1])\n",
    "\n",
    "def train():\n",
    "    for batch in dataloader:\n",
    "        ecc = cubecc(batch)\n",
    "\n",
    "runtime = timeit(train, number=num_iter)\n",
    "print(\"Runtime for each iteration:\", runtime / num_iter)"
   ]
  },
  {
   "cell_type": "markdown",
   "metadata": {},
   "source": [
    "## ECC with gradient"
   ]
  },
  {
   "cell_type": "code",
   "execution_count": null,
   "metadata": {},
   "outputs": [],
   "source": [
    "X.requires_grad_(True)\n",
    "dataloader = DataLoader(X, batch_size=batch_size, shuffle=True)"
   ]
  },
  {
   "cell_type": "markdown",
   "metadata": {},
   "source": [
    "### T-construction"
   ]
  },
  {
   "cell_type": "code",
   "execution_count": null,
   "metadata": {},
   "outputs": [
    {
     "name": "stdout",
     "output_type": "stream",
     "text": [
      "Runtime for each iteration: 16.93060333399626\n"
     ]
    }
   ],
   "source": [
    "cubecc = CubicalEcc(t_const=True, sublevel=False, interval=[0, 1])\n",
    "\n",
    "def train():\n",
    "    for batch in dataloader:\n",
    "        ecc = cubecc(batch)\n",
    "\n",
    "runtime = timeit(train, number=num_iter)\n",
    "print(\"Runtime for each iteration:\", runtime / num_iter)"
   ]
  },
  {
   "cell_type": "markdown",
   "metadata": {},
   "source": [
    "### V-construction"
   ]
  },
  {
   "cell_type": "code",
   "execution_count": null,
   "metadata": {},
   "outputs": [
    {
     "name": "stdout",
     "output_type": "stream",
     "text": [
      "Runtime for each iteration: 9.896869666001294\n"
     ]
    }
   ],
   "source": [
    "cubecc = CubicalEcc(t_const=False, sublevel=False, interval=[0, 1])\n",
    "\n",
    "def train():\n",
    "    for batch in dataloader:\n",
    "        ecc = cubecc(batch)\n",
    "\n",
    "runtime = timeit(train, number=num_iter)\n",
    "print(\"Runtime for each iteration:\", runtime / num_iter)"
   ]
  },
  {
   "cell_type": "markdown",
   "metadata": {},
   "source": [
    "## PH"
   ]
  },
  {
   "cell_type": "code",
   "execution_count": null,
   "metadata": {},
   "outputs": [],
   "source": [
    "X.requires_grad_(False)\n",
    "dataloader = DataLoader(X, batch_size=batch_size, shuffle=True)"
   ]
  },
  {
   "cell_type": "markdown",
   "metadata": {},
   "source": [
    "### T-construction"
   ]
  },
  {
   "cell_type": "code",
   "execution_count": null,
   "metadata": {},
   "outputs": [
    {
     "name": "stdout",
     "output_type": "stream",
     "text": [
      "Runtime for each iteration: 12.497989959000051\n"
     ]
    }
   ],
   "source": [
    "def train():\n",
    "    for batch in dataloader:\n",
    "        for data in batch:\n",
    "            data = -data    # bc. superlevel set is used\n",
    "            for channel in data:\n",
    "                cpx = gd.CubicalComplex(top_dimensional_cells=channel)\n",
    "                # ph = cpx.persistence()\n",
    "\n",
    "runtime = timeit(train, number=num_iter)\n",
    "print(\"Runtime for each iteration:\", runtime / num_iter)"
   ]
  },
  {
   "cell_type": "markdown",
   "metadata": {},
   "source": [
    "### V-construction"
   ]
  },
  {
   "cell_type": "code",
   "execution_count": null,
   "metadata": {},
   "outputs": [
    {
     "name": "stdout",
     "output_type": "stream",
     "text": [
      "Runtime for each iteration: 31.643859957999894\n"
     ]
    }
   ],
   "source": [
    "def train():\n",
    "    for batch in dataloader:\n",
    "        for data in batch:\n",
    "            data = -data    # bc. superlevel set is used\n",
    "            for channel in data:\n",
    "                cpx = gd.CubicalComplex(vertices=channel)\n",
    "                ph = cpx.persistence()\n",
    "\n",
    "runtime = timeit(train, number=num_iter)\n",
    "print(\"Runtime for each iteration:\", runtime / num_iter)"
   ]
  },
  {
   "cell_type": "markdown",
   "metadata": {},
   "source": [
    "# Grad analysis"
   ]
  },
  {
   "cell_type": "code",
   "execution_count": 8,
   "metadata": {},
   "outputs": [],
   "source": [
    "data1 = X[:256].clone()\n",
    "data1.requires_grad_(True)\n",
    "data1.retain_grad()\n",
    "\n",
    "cub1 = CubECC2d(as_vertices=False, sublevel=True, interval=[0, 1])\n",
    "y1 = cub1(data1)\n",
    "loss1 = y1.sum()\n",
    "loss1.backward()"
   ]
  },
  {
   "cell_type": "code",
   "execution_count": 7,
   "metadata": {},
   "outputs": [],
   "source": [
    "data2 = X[:256].clone()\n",
    "data2.requires_grad_(True)\n",
    "data2.retain_grad()\n",
    "\n",
    "cub2 = CubECC2d_b(t_const=True, sublevel=True, interval=[0, 1])\n",
    "y2 = cub2(data2)\n",
    "loss2 = y2.sum()\n",
    "loss2.backward()"
   ]
  },
  {
   "cell_type": "code",
   "execution_count": 9,
   "metadata": {},
   "outputs": [
    {
     "data": {
      "text/plain": [
       "tensor(True)"
      ]
     },
     "execution_count": 9,
     "metadata": {},
     "output_type": "execute_result"
    }
   ],
   "source": [
    "(y1 == y2).all()"
   ]
  },
  {
   "cell_type": "code",
   "execution_count": 10,
   "metadata": {},
   "outputs": [
    {
     "data": {
      "text/plain": [
       "True"
      ]
     },
     "execution_count": 10,
     "metadata": {},
     "output_type": "execute_result"
    }
   ],
   "source": [
    "import torch\n",
    "torch.allclose(data1.grad, data2.grad, rtol=0, atol=0.00001)"
   ]
  },
  {
   "cell_type": "code",
   "execution_count": 11,
   "metadata": {},
   "outputs": [
    {
     "data": {
      "text/plain": [
       "tensor(8.3447e-07)"
      ]
     },
     "execution_count": 11,
     "metadata": {},
     "output_type": "execute_result"
    }
   ],
   "source": [
    "(data1.grad - data2.grad).abs().max()"
   ]
  }
 ],
 "metadata": {
  "kernelspec": {
   "display_name": "eclay",
   "language": "python",
   "name": "python3"
  },
  "language_info": {
   "codemirror_mode": {
    "name": "ipython",
    "version": 3
   },
   "file_extension": ".py",
   "mimetype": "text/x-python",
   "name": "python",
   "nbconvert_exporter": "python",
   "pygments_lexer": "ipython3",
   "version": "3.10.8"
  }
 },
 "nbformat": 4,
 "nbformat_minor": 2
}
